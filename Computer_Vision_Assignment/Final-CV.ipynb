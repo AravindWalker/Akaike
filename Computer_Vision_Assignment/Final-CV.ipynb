{
 "cells": [
  {
   "cell_type": "code",
   "execution_count": 1,
   "id": "c167bf31",
   "metadata": {},
   "outputs": [],
   "source": [
    "# Installing needed libraires\n",
    "# pip install scikit-image\n",
    "# pip install argparse\n",
    "# pip install matplotlib\n",
    "# pip install opencv-python\n",
    "# pip install imutils\n",
    "# pip install seaborn"
   ]
  },
  {
   "cell_type": "markdown",
   "id": "13eabaad",
   "metadata": {},
   "source": [
    "# 1. CALCULATING AREA OF EACH GRAIN IN AN IMAGE\n",
    "\n",
    "Applying Watershed algorithm"
   ]
  },
  {
   "cell_type": "code",
   "execution_count": 3,
   "id": "812397e8",
   "metadata": {},
   "outputs": [],
   "source": [
    "import cv2\n",
    "from skimage.feature import peak_local_max\n",
    "from skimage.segmentation import watershed\n",
    "from scipy import ndimage\n",
    "from scipy import ndimage\n",
    "import numpy as np\n",
    "import pandas as pd\n",
    "import matplotlib.pyplot as plt\n",
    "import os\n",
    "import warnings\n",
    "import imutils\n",
    "warnings.filterwarnings(\"ignore\")\n",
    "\n",
    "def disp_image(path,x=30,y=7):\n",
    "    img = cv2.imread(path)\n",
    "    plt.figure(figsize=(x,y))\n",
    "    plt.imshow(img)\n",
    "    \n",
    "def image_area(input_file_path,output_file_path,result_info = False,result_print =False):\n",
    "    # loading image\n",
    "    image = cv2.imread(input_file_path)\n",
    "    shifted = cv2.pyrMeanShiftFiltering(image, 21, 51)\n",
    "    \n",
    "    # thersholding and greyscaling\n",
    "    gray = cv2.cvtColor(shifted, cv2.COLOR_BGR2GRAY)\n",
    "    thresh = cv2.threshold(gray, 0, 255,cv2.THRESH_BINARY | cv2.THRESH_OTSU)[1]\n",
    "    \n",
    "    \n",
    "    # noise_removal\n",
    "    kernel = np.ones((3,3),np.uint8)\n",
    "    noise_removed = cv2.morphologyEx(thresh,cv2.MORPH_OPEN, kernel, iterations=2)\n",
    "    \n",
    "    # compute the exact Euclidean distance from every binary\n",
    "    # pixel to the nearest zero pixel, then find peaks in this\n",
    "    # distance map\n",
    "    D = ndimage.distance_transform_edt(noise_removed)\n",
    "    localMax = peak_local_max(D,indices=False, min_distance=20,labels=thresh)\n",
    "\n",
    "    # perform a connected component analysis on the local peaks,\n",
    "    # using 8-connectivity, then appy the Watershed algorithm\n",
    "    \n",
    "    markers = ndimage.label(localMax, structure=np.ones((3, 3)))[0]\n",
    "    labels = watershed(-D, markers, mask=thresh)\n",
    "    \n",
    "    total_g = []\n",
    "    area_broken_g = []\n",
    "    for label in np.unique(labels):\n",
    "    # if the label is zero, we are examining the 'background'\n",
    "    # so simply ignore it\n",
    "        if label == 0:\n",
    "            continue\n",
    "        # otherwise, allocate memory for the label region and draw\n",
    "        # it on the mask\n",
    "        mask = np.zeros(gray.shape, dtype=\"uint8\")\n",
    "        mask[labels == label] = 255\n",
    "\n",
    "        #detect contours in the mask and grab the largest one\n",
    "        cnts = cv2.findContours(mask.copy(), cv2.RETR_EXTERNAL,\n",
    "            cv2.CHAIN_APPROX_SIMPLE)\n",
    "        \n",
    "        contours,h = cnts\n",
    "        cnts = imutils.grab_contours(cnts)\n",
    "        c = max(cnts, key=cv2.contourArea)\n",
    "\n",
    "        # draw a circle enclosing the object\n",
    "        ((x, y), r) = cv2.minEnclosingCircle(c)\n",
    "        \n",
    "        # cv2.circle(image, (int(x), int(y)), int(r), (0, 255, 0), 2)\n",
    "        cv2.drawContours(image,contours,-1,(0, 255, 0),2)\n",
    "        cv2.putText(image, \"#{}\".format(label), (int(x) - 10, int(y)),cv2.FONT_HERSHEY_SIMPLEX, 0.6, (0, 0,255),2)\n",
    "        \n",
    "        # using threshold to calculate area\n",
    "        # area_threshold = 1497\n",
    "        for x in contours:\n",
    "            area = cv2.contourArea(x)\n",
    "            total_g.append(area)\n",
    "    \n",
    "    cv2.imwrite(output_file_path,image)\n",
    "    \n",
    "    area_avg = np.average(total_g)\n",
    "    result = {'total_grains':len(total_g),\n",
    "             'grain_area_list' : total_g }\n",
    "    \n",
    "    if result_info == True:\n",
    "        return result"
   ]
  },
  {
   "cell_type": "markdown",
   "id": "2e8a9700",
   "metadata": {},
   "source": [
    "# 2. LOADING THE AREA VALUES INTO DATAFRAME"
   ]
  },
  {
   "cell_type": "code",
   "execution_count": 3,
   "id": "f461b541",
   "metadata": {},
   "outputs": [],
   "source": [
    "train_img_name = os.listdir('data/train')\n",
    "test_img_name = os.listdir('data/test')"
   ]
  },
  {
   "cell_type": "code",
   "execution_count": 4,
   "id": "d586e1c7",
   "metadata": {},
   "outputs": [
    {
     "data": {
      "text/plain": [
       "['broken_grain_1.jpg',\n",
       " 'broken_grain_2.jpg',\n",
       " 'broken_grain_3.jpg',\n",
       " 'full_grain_1.jpg',\n",
       " 'full_grain_2.jpg',\n",
       " 'full_grain_3.jpg',\n",
       " 'full_grain_4.jpg',\n",
       " 'full_grain_5.jpg',\n",
       " 'full_grain_6.jpg',\n",
       " 'mixed_grains_3.jpg',\n",
       " 'mixed_grain_1.jpg',\n",
       " 'mixed_grain_2.jpg']"
      ]
     },
     "execution_count": 4,
     "metadata": {},
     "output_type": "execute_result"
    }
   ],
   "source": [
    "train_img_name"
   ]
  },
  {
   "cell_type": "code",
   "execution_count": 5,
   "id": "9cfedd00",
   "metadata": {
    "scrolled": true
   },
   "outputs": [
    {
     "data": {
      "text/plain": [
       "['image_1.jpg', 'image_2.jpg', 'image_3.jpg', 'image_4.jpg', 'image_5.jpg']"
      ]
     },
     "execution_count": 5,
     "metadata": {},
     "output_type": "execute_result"
    }
   ],
   "source": [
    "test_img_name"
   ]
  },
  {
   "cell_type": "markdown",
   "id": "da473b25",
   "metadata": {},
   "source": [
    "# for folder creation, if already exists it will be passed"
   ]
  },
  {
   "cell_type": "code",
   "execution_count": 6,
   "id": "b50e8c18",
   "metadata": {},
   "outputs": [],
   "source": [
    "try:\n",
    "    for i in ['data/train_solved','data/test_solved']:\n",
    "        os.makedirs(i)\n",
    "except:\n",
    "    pass"
   ]
  },
  {
   "cell_type": "code",
   "execution_count": 7,
   "id": "5e238e52",
   "metadata": {},
   "outputs": [],
   "source": [
    "# creating a data frame to store the output of watershed and contour method results\n",
    "\n",
    "df_train = pd.DataFrame(columns = ['name','total_grains','grain_area_list'])"
   ]
  },
  {
   "cell_type": "code",
   "execution_count": 8,
   "id": "eb0c3a13",
   "metadata": {},
   "outputs": [],
   "source": [
    "# finding areas of rice grains through watershed algorithm"
   ]
  },
  {
   "cell_type": "code",
   "execution_count": 9,
   "id": "740e2983",
   "metadata": {
    "scrolled": false
   },
   "outputs": [
    {
     "name": "stdout",
     "output_type": "stream",
     "text": [
      "All training images loaded\n"
     ]
    }
   ],
   "source": [
    "for i in train_img_name:\n",
    "    ip_path = f'data/train/{i}'\n",
    "    op_path = f'data/train_solved/image_area_{i}'\n",
    "    result = image_area(ip_path,op_path,True)\n",
    "    result['name'] = i\n",
    "    df_train = df_train.append(result,ignore_index = True)\n",
    "print(\"All training images loaded\")"
   ]
  },
  {
   "cell_type": "code",
   "execution_count": 10,
   "id": "1b3f5f58",
   "metadata": {},
   "outputs": [
    {
     "data": {
      "text/html": [
       "<div>\n",
       "<style scoped>\n",
       "    .dataframe tbody tr th:only-of-type {\n",
       "        vertical-align: middle;\n",
       "    }\n",
       "\n",
       "    .dataframe tbody tr th {\n",
       "        vertical-align: top;\n",
       "    }\n",
       "\n",
       "    .dataframe thead th {\n",
       "        text-align: right;\n",
       "    }\n",
       "</style>\n",
       "<table border=\"1\" class=\"dataframe\">\n",
       "  <thead>\n",
       "    <tr style=\"text-align: right;\">\n",
       "      <th></th>\n",
       "      <th>name</th>\n",
       "      <th>total_grains</th>\n",
       "      <th>grain_area_list</th>\n",
       "    </tr>\n",
       "  </thead>\n",
       "  <tbody>\n",
       "    <tr>\n",
       "      <th>0</th>\n",
       "      <td>broken_grain_1.jpg</td>\n",
       "      <td>746</td>\n",
       "      <td>[862.5, 0.0, 1409.0, 1516.0, 1484.5, 985.5, 11...</td>\n",
       "    </tr>\n",
       "    <tr>\n",
       "      <th>1</th>\n",
       "      <td>broken_grain_2.jpg</td>\n",
       "      <td>559</td>\n",
       "      <td>[1310.0, 955.5, 753.5, 585.0, 1575.0, 1656.5, ...</td>\n",
       "    </tr>\n",
       "    <tr>\n",
       "      <th>2</th>\n",
       "      <td>broken_grain_3.jpg</td>\n",
       "      <td>1048</td>\n",
       "      <td>[768.5, 1450.5, 1639.0, 694.5, 1139.0, 1893.0,...</td>\n",
       "    </tr>\n",
       "    <tr>\n",
       "      <th>3</th>\n",
       "      <td>full_grain_1.jpg</td>\n",
       "      <td>329</td>\n",
       "      <td>[1230.0, 1295.5, 1322.5, 965.0, 1163.5, 2370.5...</td>\n",
       "    </tr>\n",
       "    <tr>\n",
       "      <th>4</th>\n",
       "      <td>full_grain_2.jpg</td>\n",
       "      <td>552</td>\n",
       "      <td>[512.0, 649.5, 635.0, 810.0, 831.5, 807.0, 173...</td>\n",
       "    </tr>\n",
       "    <tr>\n",
       "      <th>5</th>\n",
       "      <td>full_grain_3.jpg</td>\n",
       "      <td>717</td>\n",
       "      <td>[1190.0, 2199.5, 1707.0, 746.5, 1827.0, 1015.5...</td>\n",
       "    </tr>\n",
       "    <tr>\n",
       "      <th>6</th>\n",
       "      <td>full_grain_4.jpg</td>\n",
       "      <td>583</td>\n",
       "      <td>[2570.0, 1852.5, 1008.0, 1051.5, 2187.5, 4286....</td>\n",
       "    </tr>\n",
       "    <tr>\n",
       "      <th>7</th>\n",
       "      <td>full_grain_5.jpg</td>\n",
       "      <td>718</td>\n",
       "      <td>[5616.5, 2250.0, 0.0, 430.5, 2420.0, 181.0, 19...</td>\n",
       "    </tr>\n",
       "    <tr>\n",
       "      <th>8</th>\n",
       "      <td>full_grain_6.jpg</td>\n",
       "      <td>726</td>\n",
       "      <td>[341.5, 4873.0, 0.0, 4068.5, 1279.5, 1090.5, 1...</td>\n",
       "    </tr>\n",
       "    <tr>\n",
       "      <th>9</th>\n",
       "      <td>mixed_grains_3.jpg</td>\n",
       "      <td>737</td>\n",
       "      <td>[1155.0, 717.5, 1615.5, 1619.5, 3008.0, 3307.5...</td>\n",
       "    </tr>\n",
       "    <tr>\n",
       "      <th>10</th>\n",
       "      <td>mixed_grain_1.jpg</td>\n",
       "      <td>403</td>\n",
       "      <td>[1666.5, 504.5, 1156.0, 1787.0, 1051.5, 1654.5...</td>\n",
       "    </tr>\n",
       "    <tr>\n",
       "      <th>11</th>\n",
       "      <td>mixed_grain_2.jpg</td>\n",
       "      <td>441</td>\n",
       "      <td>[2473.5, 1057.5, 1393.5, 2947.5, 1611.5, 5411....</td>\n",
       "    </tr>\n",
       "  </tbody>\n",
       "</table>\n",
       "</div>"
      ],
      "text/plain": [
       "                  name total_grains  \\\n",
       "0   broken_grain_1.jpg          746   \n",
       "1   broken_grain_2.jpg          559   \n",
       "2   broken_grain_3.jpg         1048   \n",
       "3     full_grain_1.jpg          329   \n",
       "4     full_grain_2.jpg          552   \n",
       "5     full_grain_3.jpg          717   \n",
       "6     full_grain_4.jpg          583   \n",
       "7     full_grain_5.jpg          718   \n",
       "8     full_grain_6.jpg          726   \n",
       "9   mixed_grains_3.jpg          737   \n",
       "10   mixed_grain_1.jpg          403   \n",
       "11   mixed_grain_2.jpg          441   \n",
       "\n",
       "                                      grain_area_list  \n",
       "0   [862.5, 0.0, 1409.0, 1516.0, 1484.5, 985.5, 11...  \n",
       "1   [1310.0, 955.5, 753.5, 585.0, 1575.0, 1656.5, ...  \n",
       "2   [768.5, 1450.5, 1639.0, 694.5, 1139.0, 1893.0,...  \n",
       "3   [1230.0, 1295.5, 1322.5, 965.0, 1163.5, 2370.5...  \n",
       "4   [512.0, 649.5, 635.0, 810.0, 831.5, 807.0, 173...  \n",
       "5   [1190.0, 2199.5, 1707.0, 746.5, 1827.0, 1015.5...  \n",
       "6   [2570.0, 1852.5, 1008.0, 1051.5, 2187.5, 4286....  \n",
       "7   [5616.5, 2250.0, 0.0, 430.5, 2420.0, 181.0, 19...  \n",
       "8   [341.5, 4873.0, 0.0, 4068.5, 1279.5, 1090.5, 1...  \n",
       "9   [1155.0, 717.5, 1615.5, 1619.5, 3008.0, 3307.5...  \n",
       "10  [1666.5, 504.5, 1156.0, 1787.0, 1051.5, 1654.5...  \n",
       "11  [2473.5, 1057.5, 1393.5, 2947.5, 1611.5, 5411....  "
      ]
     },
     "execution_count": 10,
     "metadata": {},
     "output_type": "execute_result"
    }
   ],
   "source": [
    "df_train"
   ]
  },
  {
   "cell_type": "code",
   "execution_count": 11,
   "id": "adc92813",
   "metadata": {},
   "outputs": [],
   "source": [
    "# creating a data frame to store the output of watershed and contour method results\n",
    "df_test = pd.DataFrame(columns = ['name','total_grains','grain_area_list'])"
   ]
  },
  {
   "cell_type": "code",
   "execution_count": 12,
   "id": "c99a1be0",
   "metadata": {},
   "outputs": [],
   "source": [
    "# finding areas of rice grains through contour and watershed algorithm"
   ]
  },
  {
   "cell_type": "code",
   "execution_count": 13,
   "id": "03637a72",
   "metadata": {},
   "outputs": [
    {
     "name": "stdout",
     "output_type": "stream",
     "text": [
      "All testing images loaded\n"
     ]
    }
   ],
   "source": [
    "for i in test_img_name:\n",
    "    ip_path = f'data/test/{i}'\n",
    "    op_path = f'data/test_solved/image_area_{i}'\n",
    "    result = image_area(ip_path,op_path,True)\n",
    "    result['name'] = i\n",
    "    df_test = df_test.append(result,ignore_index = True)\n",
    "print(\"All testing images loaded\")"
   ]
  },
  {
   "cell_type": "code",
   "execution_count": 14,
   "id": "d33cb142",
   "metadata": {},
   "outputs": [
    {
     "data": {
      "text/html": [
       "<div>\n",
       "<style scoped>\n",
       "    .dataframe tbody tr th:only-of-type {\n",
       "        vertical-align: middle;\n",
       "    }\n",
       "\n",
       "    .dataframe tbody tr th {\n",
       "        vertical-align: top;\n",
       "    }\n",
       "\n",
       "    .dataframe thead th {\n",
       "        text-align: right;\n",
       "    }\n",
       "</style>\n",
       "<table border=\"1\" class=\"dataframe\">\n",
       "  <thead>\n",
       "    <tr style=\"text-align: right;\">\n",
       "      <th></th>\n",
       "      <th>name</th>\n",
       "      <th>total_grains</th>\n",
       "      <th>grain_area_list</th>\n",
       "    </tr>\n",
       "  </thead>\n",
       "  <tbody>\n",
       "    <tr>\n",
       "      <th>0</th>\n",
       "      <td>image_1.jpg</td>\n",
       "      <td>630</td>\n",
       "      <td>[1175.0, 1146.5, 977.5, 590.0, 664.0, 389.5, 1...</td>\n",
       "    </tr>\n",
       "    <tr>\n",
       "      <th>1</th>\n",
       "      <td>image_2.jpg</td>\n",
       "      <td>645</td>\n",
       "      <td>[574.5, 2111.5, 1302.0, 2574.0, 1676.5, 784.0,...</td>\n",
       "    </tr>\n",
       "    <tr>\n",
       "      <th>2</th>\n",
       "      <td>image_3.jpg</td>\n",
       "      <td>634</td>\n",
       "      <td>[886.5, 1295.5, 1387.0, 2395.0, 4560.5, 819.0,...</td>\n",
       "    </tr>\n",
       "    <tr>\n",
       "      <th>3</th>\n",
       "      <td>image_4.jpg</td>\n",
       "      <td>723</td>\n",
       "      <td>[1389.0, 1499.5, 744.0, 733.0, 1045.5, 1101.5,...</td>\n",
       "    </tr>\n",
       "    <tr>\n",
       "      <th>4</th>\n",
       "      <td>image_5.jpg</td>\n",
       "      <td>737</td>\n",
       "      <td>[1155.0, 717.5, 1615.5, 1619.5, 3008.0, 3307.5...</td>\n",
       "    </tr>\n",
       "  </tbody>\n",
       "</table>\n",
       "</div>"
      ],
      "text/plain": [
       "          name total_grains                                    grain_area_list\n",
       "0  image_1.jpg          630  [1175.0, 1146.5, 977.5, 590.0, 664.0, 389.5, 1...\n",
       "1  image_2.jpg          645  [574.5, 2111.5, 1302.0, 2574.0, 1676.5, 784.0,...\n",
       "2  image_3.jpg          634  [886.5, 1295.5, 1387.0, 2395.0, 4560.5, 819.0,...\n",
       "3  image_4.jpg          723  [1389.0, 1499.5, 744.0, 733.0, 1045.5, 1101.5,...\n",
       "4  image_5.jpg          737  [1155.0, 717.5, 1615.5, 1619.5, 3008.0, 3307.5..."
      ]
     },
     "execution_count": 14,
     "metadata": {},
     "output_type": "execute_result"
    }
   ],
   "source": [
    "df_test"
   ]
  },
  {
   "cell_type": "markdown",
   "id": "dd0e2b06",
   "metadata": {},
   "source": [
    "### This step was added to store the result of Step1 and Step 2 as above steps take some time"
   ]
  },
  {
   "cell_type": "code",
   "execution_count": 15,
   "id": "d1163056",
   "metadata": {},
   "outputs": [],
   "source": [
    "df_train.to_json(r'.\\data\\area_train.json',orient = 'records',index=True)\n",
    "df_test.to_json(r'.\\data\\area_test.json',orient = 'records',index=True)"
   ]
  },
  {
   "cell_type": "markdown",
   "id": "f881514c",
   "metadata": {},
   "source": [
    "# 3. LABELLING THE AVAILABLE DATA AS FULL AND BROKEN"
   ]
  },
  {
   "cell_type": "code",
   "execution_count": 16,
   "id": "d212e66a",
   "metadata": {},
   "outputs": [],
   "source": [
    "df_train = pd.read_json(r'.\\data\\area_train.json')\n",
    "df_test = pd.read_json(r'.\\data\\area_test.json')"
   ]
  },
  {
   "cell_type": "code",
   "execution_count": 17,
   "id": "51353858",
   "metadata": {},
   "outputs": [
    {
     "data": {
      "text/html": [
       "<div>\n",
       "<style scoped>\n",
       "    .dataframe tbody tr th:only-of-type {\n",
       "        vertical-align: middle;\n",
       "    }\n",
       "\n",
       "    .dataframe tbody tr th {\n",
       "        vertical-align: top;\n",
       "    }\n",
       "\n",
       "    .dataframe thead th {\n",
       "        text-align: right;\n",
       "    }\n",
       "</style>\n",
       "<table border=\"1\" class=\"dataframe\">\n",
       "  <thead>\n",
       "    <tr style=\"text-align: right;\">\n",
       "      <th></th>\n",
       "      <th>name</th>\n",
       "      <th>total_grains</th>\n",
       "      <th>grain_area_list</th>\n",
       "    </tr>\n",
       "  </thead>\n",
       "  <tbody>\n",
       "    <tr>\n",
       "      <th>0</th>\n",
       "      <td>broken_grain_1.jpg</td>\n",
       "      <td>746</td>\n",
       "      <td>[862.5, 0.0, 1409.0, 1516.0, 1484.5, 985.5, 11...</td>\n",
       "    </tr>\n",
       "    <tr>\n",
       "      <th>1</th>\n",
       "      <td>broken_grain_2.jpg</td>\n",
       "      <td>559</td>\n",
       "      <td>[1310.0, 955.5, 753.5, 585.0, 1575.0, 1656.5, ...</td>\n",
       "    </tr>\n",
       "    <tr>\n",
       "      <th>2</th>\n",
       "      <td>broken_grain_3.jpg</td>\n",
       "      <td>1048</td>\n",
       "      <td>[768.5, 1450.5, 1639.0, 694.5, 1139.0, 1893.0,...</td>\n",
       "    </tr>\n",
       "    <tr>\n",
       "      <th>3</th>\n",
       "      <td>full_grain_1.jpg</td>\n",
       "      <td>329</td>\n",
       "      <td>[1230.0, 1295.5, 1322.5, 965.0, 1163.5, 2370.5...</td>\n",
       "    </tr>\n",
       "    <tr>\n",
       "      <th>4</th>\n",
       "      <td>full_grain_2.jpg</td>\n",
       "      <td>552</td>\n",
       "      <td>[512.0, 649.5, 635.0, 810.0, 831.5, 807.0, 173...</td>\n",
       "    </tr>\n",
       "    <tr>\n",
       "      <th>5</th>\n",
       "      <td>full_grain_3.jpg</td>\n",
       "      <td>717</td>\n",
       "      <td>[1190.0, 2199.5, 1707.0, 746.5, 1827.0, 1015.5...</td>\n",
       "    </tr>\n",
       "    <tr>\n",
       "      <th>6</th>\n",
       "      <td>full_grain_4.jpg</td>\n",
       "      <td>583</td>\n",
       "      <td>[2570.0, 1852.5, 1008.0, 1051.5, 2187.5, 4286....</td>\n",
       "    </tr>\n",
       "    <tr>\n",
       "      <th>7</th>\n",
       "      <td>full_grain_5.jpg</td>\n",
       "      <td>718</td>\n",
       "      <td>[5616.5, 2250.0, 0.0, 430.5, 2420.0, 181.0, 19...</td>\n",
       "    </tr>\n",
       "    <tr>\n",
       "      <th>8</th>\n",
       "      <td>full_grain_6.jpg</td>\n",
       "      <td>726</td>\n",
       "      <td>[341.5, 4873.0, 0.0, 4068.5, 1279.5, 1090.5, 1...</td>\n",
       "    </tr>\n",
       "    <tr>\n",
       "      <th>9</th>\n",
       "      <td>mixed_grains_3.jpg</td>\n",
       "      <td>737</td>\n",
       "      <td>[1155.0, 717.5, 1615.5, 1619.5, 3008.0, 3307.5...</td>\n",
       "    </tr>\n",
       "    <tr>\n",
       "      <th>10</th>\n",
       "      <td>mixed_grain_1.jpg</td>\n",
       "      <td>403</td>\n",
       "      <td>[1666.5, 504.5, 1156.0, 1787.0, 1051.5, 1654.5...</td>\n",
       "    </tr>\n",
       "    <tr>\n",
       "      <th>11</th>\n",
       "      <td>mixed_grain_2.jpg</td>\n",
       "      <td>441</td>\n",
       "      <td>[2473.5, 1057.5, 1393.5, 2947.5, 1611.5, 5411....</td>\n",
       "    </tr>\n",
       "  </tbody>\n",
       "</table>\n",
       "</div>"
      ],
      "text/plain": [
       "                  name  total_grains  \\\n",
       "0   broken_grain_1.jpg           746   \n",
       "1   broken_grain_2.jpg           559   \n",
       "2   broken_grain_3.jpg          1048   \n",
       "3     full_grain_1.jpg           329   \n",
       "4     full_grain_2.jpg           552   \n",
       "5     full_grain_3.jpg           717   \n",
       "6     full_grain_4.jpg           583   \n",
       "7     full_grain_5.jpg           718   \n",
       "8     full_grain_6.jpg           726   \n",
       "9   mixed_grains_3.jpg           737   \n",
       "10   mixed_grain_1.jpg           403   \n",
       "11   mixed_grain_2.jpg           441   \n",
       "\n",
       "                                      grain_area_list  \n",
       "0   [862.5, 0.0, 1409.0, 1516.0, 1484.5, 985.5, 11...  \n",
       "1   [1310.0, 955.5, 753.5, 585.0, 1575.0, 1656.5, ...  \n",
       "2   [768.5, 1450.5, 1639.0, 694.5, 1139.0, 1893.0,...  \n",
       "3   [1230.0, 1295.5, 1322.5, 965.0, 1163.5, 2370.5...  \n",
       "4   [512.0, 649.5, 635.0, 810.0, 831.5, 807.0, 173...  \n",
       "5   [1190.0, 2199.5, 1707.0, 746.5, 1827.0, 1015.5...  \n",
       "6   [2570.0, 1852.5, 1008.0, 1051.5, 2187.5, 4286....  \n",
       "7   [5616.5, 2250.0, 0.0, 430.5, 2420.0, 181.0, 19...  \n",
       "8   [341.5, 4873.0, 0.0, 4068.5, 1279.5, 1090.5, 1...  \n",
       "9   [1155.0, 717.5, 1615.5, 1619.5, 3008.0, 3307.5...  \n",
       "10  [1666.5, 504.5, 1156.0, 1787.0, 1051.5, 1654.5...  \n",
       "11  [2473.5, 1057.5, 1393.5, 2947.5, 1611.5, 5411....  "
      ]
     },
     "execution_count": 17,
     "metadata": {},
     "output_type": "execute_result"
    }
   ],
   "source": [
    "df_train"
   ]
  },
  {
   "cell_type": "code",
   "execution_count": 18,
   "id": "1832ad6a",
   "metadata": {},
   "outputs": [],
   "source": [
    "broken_grain = []\n",
    "full_grain = []\n",
    "for i in df_train['grain_area_list'].iloc[0:3]:\n",
    "    broken_grain.extend(i)\n",
    "for i in df_train['grain_area_list'].iloc[3:9]:\n",
    "    full_grain.extend(i)"
   ]
  },
  {
   "cell_type": "code",
   "execution_count": 19,
   "id": "06db1039",
   "metadata": {},
   "outputs": [
    {
     "data": {
      "text/html": [
       "<div>\n",
       "<style scoped>\n",
       "    .dataframe tbody tr th:only-of-type {\n",
       "        vertical-align: middle;\n",
       "    }\n",
       "\n",
       "    .dataframe tbody tr th {\n",
       "        vertical-align: top;\n",
       "    }\n",
       "\n",
       "    .dataframe thead th {\n",
       "        text-align: right;\n",
       "    }\n",
       "</style>\n",
       "<table border=\"1\" class=\"dataframe\">\n",
       "  <thead>\n",
       "    <tr style=\"text-align: right;\">\n",
       "      <th></th>\n",
       "      <th>area</th>\n",
       "      <th>rice_type</th>\n",
       "    </tr>\n",
       "  </thead>\n",
       "  <tbody>\n",
       "    <tr>\n",
       "      <th>0</th>\n",
       "      <td>862.5</td>\n",
       "      <td>broken</td>\n",
       "    </tr>\n",
       "    <tr>\n",
       "      <th>1</th>\n",
       "      <td>0.0</td>\n",
       "      <td>broken</td>\n",
       "    </tr>\n",
       "    <tr>\n",
       "      <th>2</th>\n",
       "      <td>1409.0</td>\n",
       "      <td>broken</td>\n",
       "    </tr>\n",
       "    <tr>\n",
       "      <th>3</th>\n",
       "      <td>1516.0</td>\n",
       "      <td>broken</td>\n",
       "    </tr>\n",
       "    <tr>\n",
       "      <th>4</th>\n",
       "      <td>1484.5</td>\n",
       "      <td>broken</td>\n",
       "    </tr>\n",
       "    <tr>\n",
       "      <th>...</th>\n",
       "      <td>...</td>\n",
       "      <td>...</td>\n",
       "    </tr>\n",
       "    <tr>\n",
       "      <th>2348</th>\n",
       "      <td>1201.5</td>\n",
       "      <td>broken</td>\n",
       "    </tr>\n",
       "    <tr>\n",
       "      <th>2349</th>\n",
       "      <td>4278.0</td>\n",
       "      <td>broken</td>\n",
       "    </tr>\n",
       "    <tr>\n",
       "      <th>2350</th>\n",
       "      <td>0.0</td>\n",
       "      <td>broken</td>\n",
       "    </tr>\n",
       "    <tr>\n",
       "      <th>2351</th>\n",
       "      <td>1791.0</td>\n",
       "      <td>broken</td>\n",
       "    </tr>\n",
       "    <tr>\n",
       "      <th>2352</th>\n",
       "      <td>1046.0</td>\n",
       "      <td>broken</td>\n",
       "    </tr>\n",
       "  </tbody>\n",
       "</table>\n",
       "<p>2353 rows × 2 columns</p>\n",
       "</div>"
      ],
      "text/plain": [
       "        area rice_type\n",
       "0      862.5    broken\n",
       "1        0.0    broken\n",
       "2     1409.0    broken\n",
       "3     1516.0    broken\n",
       "4     1484.5    broken\n",
       "...      ...       ...\n",
       "2348  1201.5    broken\n",
       "2349  4278.0    broken\n",
       "2350     0.0    broken\n",
       "2351  1791.0    broken\n",
       "2352  1046.0    broken\n",
       "\n",
       "[2353 rows x 2 columns]"
      ]
     },
     "execution_count": 19,
     "metadata": {},
     "output_type": "execute_result"
    }
   ],
   "source": [
    "df1 = pd.DataFrame(columns= ['area','rice_type'])\n",
    "df1['area'] = broken_grain\n",
    "df1['rice_type'] = 'broken'\n",
    "df1"
   ]
  },
  {
   "cell_type": "code",
   "execution_count": 20,
   "id": "1bff1278",
   "metadata": {},
   "outputs": [
    {
     "data": {
      "text/html": [
       "<div>\n",
       "<style scoped>\n",
       "    .dataframe tbody tr th:only-of-type {\n",
       "        vertical-align: middle;\n",
       "    }\n",
       "\n",
       "    .dataframe tbody tr th {\n",
       "        vertical-align: top;\n",
       "    }\n",
       "\n",
       "    .dataframe thead th {\n",
       "        text-align: right;\n",
       "    }\n",
       "</style>\n",
       "<table border=\"1\" class=\"dataframe\">\n",
       "  <thead>\n",
       "    <tr style=\"text-align: right;\">\n",
       "      <th></th>\n",
       "      <th>area</th>\n",
       "      <th>rice_type</th>\n",
       "    </tr>\n",
       "  </thead>\n",
       "  <tbody>\n",
       "    <tr>\n",
       "      <th>0</th>\n",
       "      <td>1230.0</td>\n",
       "      <td>full</td>\n",
       "    </tr>\n",
       "    <tr>\n",
       "      <th>1</th>\n",
       "      <td>1295.5</td>\n",
       "      <td>full</td>\n",
       "    </tr>\n",
       "    <tr>\n",
       "      <th>2</th>\n",
       "      <td>1322.5</td>\n",
       "      <td>full</td>\n",
       "    </tr>\n",
       "    <tr>\n",
       "      <th>3</th>\n",
       "      <td>965.0</td>\n",
       "      <td>full</td>\n",
       "    </tr>\n",
       "    <tr>\n",
       "      <th>4</th>\n",
       "      <td>1163.5</td>\n",
       "      <td>full</td>\n",
       "    </tr>\n",
       "    <tr>\n",
       "      <th>...</th>\n",
       "      <td>...</td>\n",
       "      <td>...</td>\n",
       "    </tr>\n",
       "    <tr>\n",
       "      <th>3620</th>\n",
       "      <td>2012.5</td>\n",
       "      <td>full</td>\n",
       "    </tr>\n",
       "    <tr>\n",
       "      <th>3621</th>\n",
       "      <td>516.5</td>\n",
       "      <td>full</td>\n",
       "    </tr>\n",
       "    <tr>\n",
       "      <th>3622</th>\n",
       "      <td>1841.0</td>\n",
       "      <td>full</td>\n",
       "    </tr>\n",
       "    <tr>\n",
       "      <th>3623</th>\n",
       "      <td>164.5</td>\n",
       "      <td>full</td>\n",
       "    </tr>\n",
       "    <tr>\n",
       "      <th>3624</th>\n",
       "      <td>415.0</td>\n",
       "      <td>full</td>\n",
       "    </tr>\n",
       "  </tbody>\n",
       "</table>\n",
       "<p>3625 rows × 2 columns</p>\n",
       "</div>"
      ],
      "text/plain": [
       "        area rice_type\n",
       "0     1230.0      full\n",
       "1     1295.5      full\n",
       "2     1322.5      full\n",
       "3      965.0      full\n",
       "4     1163.5      full\n",
       "...      ...       ...\n",
       "3620  2012.5      full\n",
       "3621   516.5      full\n",
       "3622  1841.0      full\n",
       "3623   164.5      full\n",
       "3624   415.0      full\n",
       "\n",
       "[3625 rows x 2 columns]"
      ]
     },
     "execution_count": 20,
     "metadata": {},
     "output_type": "execute_result"
    }
   ],
   "source": [
    "df2 = pd.DataFrame(columns= ['area','rice_type'])\n",
    "df2['area'] = full_grain\n",
    "df2['rice_type'] = 'full'\n",
    "df2"
   ]
  },
  {
   "cell_type": "code",
   "execution_count": 21,
   "id": "7accf160",
   "metadata": {},
   "outputs": [],
   "source": [
    "label_data = pd.concat([df1,df2],ignore_index = True)"
   ]
  },
  {
   "cell_type": "code",
   "execution_count": 22,
   "id": "c4cecf85",
   "metadata": {},
   "outputs": [],
   "source": [
    "label_data.to_csv(r'.\\data\\label_data.csv')"
   ]
  },
  {
   "cell_type": "code",
   "execution_count": 23,
   "id": "5464d35b",
   "metadata": {},
   "outputs": [
    {
     "data": {
      "text/html": [
       "<div>\n",
       "<style scoped>\n",
       "    .dataframe tbody tr th:only-of-type {\n",
       "        vertical-align: middle;\n",
       "    }\n",
       "\n",
       "    .dataframe tbody tr th {\n",
       "        vertical-align: top;\n",
       "    }\n",
       "\n",
       "    .dataframe thead th {\n",
       "        text-align: right;\n",
       "    }\n",
       "</style>\n",
       "<table border=\"1\" class=\"dataframe\">\n",
       "  <thead>\n",
       "    <tr style=\"text-align: right;\">\n",
       "      <th></th>\n",
       "      <th>area</th>\n",
       "      <th>rice_type</th>\n",
       "    </tr>\n",
       "  </thead>\n",
       "  <tbody>\n",
       "    <tr>\n",
       "      <th>0</th>\n",
       "      <td>862.5</td>\n",
       "      <td>broken</td>\n",
       "    </tr>\n",
       "    <tr>\n",
       "      <th>1</th>\n",
       "      <td>0.0</td>\n",
       "      <td>broken</td>\n",
       "    </tr>\n",
       "    <tr>\n",
       "      <th>2</th>\n",
       "      <td>1409.0</td>\n",
       "      <td>broken</td>\n",
       "    </tr>\n",
       "    <tr>\n",
       "      <th>3</th>\n",
       "      <td>1516.0</td>\n",
       "      <td>broken</td>\n",
       "    </tr>\n",
       "    <tr>\n",
       "      <th>4</th>\n",
       "      <td>1484.5</td>\n",
       "      <td>broken</td>\n",
       "    </tr>\n",
       "    <tr>\n",
       "      <th>...</th>\n",
       "      <td>...</td>\n",
       "      <td>...</td>\n",
       "    </tr>\n",
       "    <tr>\n",
       "      <th>5973</th>\n",
       "      <td>2012.5</td>\n",
       "      <td>full</td>\n",
       "    </tr>\n",
       "    <tr>\n",
       "      <th>5974</th>\n",
       "      <td>516.5</td>\n",
       "      <td>full</td>\n",
       "    </tr>\n",
       "    <tr>\n",
       "      <th>5975</th>\n",
       "      <td>1841.0</td>\n",
       "      <td>full</td>\n",
       "    </tr>\n",
       "    <tr>\n",
       "      <th>5976</th>\n",
       "      <td>164.5</td>\n",
       "      <td>full</td>\n",
       "    </tr>\n",
       "    <tr>\n",
       "      <th>5977</th>\n",
       "      <td>415.0</td>\n",
       "      <td>full</td>\n",
       "    </tr>\n",
       "  </tbody>\n",
       "</table>\n",
       "<p>5978 rows × 2 columns</p>\n",
       "</div>"
      ],
      "text/plain": [
       "        area rice_type\n",
       "0      862.5    broken\n",
       "1        0.0    broken\n",
       "2     1409.0    broken\n",
       "3     1516.0    broken\n",
       "4     1484.5    broken\n",
       "...      ...       ...\n",
       "5973  2012.5      full\n",
       "5974   516.5      full\n",
       "5975  1841.0      full\n",
       "5976   164.5      full\n",
       "5977   415.0      full\n",
       "\n",
       "[5978 rows x 2 columns]"
      ]
     },
     "execution_count": 23,
     "metadata": {},
     "output_type": "execute_result"
    }
   ],
   "source": [
    "label_data"
   ]
  },
  {
   "cell_type": "code",
   "execution_count": 24,
   "id": "1fc05be1",
   "metadata": {},
   "outputs": [
    {
     "data": {
      "text/html": [
       "<div>\n",
       "<style scoped>\n",
       "    .dataframe tbody tr th:only-of-type {\n",
       "        vertical-align: middle;\n",
       "    }\n",
       "\n",
       "    .dataframe tbody tr th {\n",
       "        vertical-align: top;\n",
       "    }\n",
       "\n",
       "    .dataframe thead th {\n",
       "        text-align: right;\n",
       "    }\n",
       "</style>\n",
       "<table border=\"1\" class=\"dataframe\">\n",
       "  <thead>\n",
       "    <tr style=\"text-align: right;\">\n",
       "      <th></th>\n",
       "      <th>name</th>\n",
       "      <th>total_grains</th>\n",
       "      <th>grain_area_list</th>\n",
       "    </tr>\n",
       "  </thead>\n",
       "  <tbody>\n",
       "    <tr>\n",
       "      <th>0</th>\n",
       "      <td>broken_grain_1.jpg</td>\n",
       "      <td>746</td>\n",
       "      <td>[862.5, 0.0, 1409.0, 1516.0, 1484.5, 985.5, 11...</td>\n",
       "    </tr>\n",
       "    <tr>\n",
       "      <th>1</th>\n",
       "      <td>broken_grain_2.jpg</td>\n",
       "      <td>559</td>\n",
       "      <td>[1310.0, 955.5, 753.5, 585.0, 1575.0, 1656.5, ...</td>\n",
       "    </tr>\n",
       "    <tr>\n",
       "      <th>2</th>\n",
       "      <td>broken_grain_3.jpg</td>\n",
       "      <td>1048</td>\n",
       "      <td>[768.5, 1450.5, 1639.0, 694.5, 1139.0, 1893.0,...</td>\n",
       "    </tr>\n",
       "    <tr>\n",
       "      <th>3</th>\n",
       "      <td>full_grain_1.jpg</td>\n",
       "      <td>329</td>\n",
       "      <td>[1230.0, 1295.5, 1322.5, 965.0, 1163.5, 2370.5...</td>\n",
       "    </tr>\n",
       "    <tr>\n",
       "      <th>4</th>\n",
       "      <td>full_grain_2.jpg</td>\n",
       "      <td>552</td>\n",
       "      <td>[512.0, 649.5, 635.0, 810.0, 831.5, 807.0, 173...</td>\n",
       "    </tr>\n",
       "    <tr>\n",
       "      <th>5</th>\n",
       "      <td>full_grain_3.jpg</td>\n",
       "      <td>717</td>\n",
       "      <td>[1190.0, 2199.5, 1707.0, 746.5, 1827.0, 1015.5...</td>\n",
       "    </tr>\n",
       "    <tr>\n",
       "      <th>6</th>\n",
       "      <td>full_grain_4.jpg</td>\n",
       "      <td>583</td>\n",
       "      <td>[2570.0, 1852.5, 1008.0, 1051.5, 2187.5, 4286....</td>\n",
       "    </tr>\n",
       "    <tr>\n",
       "      <th>7</th>\n",
       "      <td>full_grain_5.jpg</td>\n",
       "      <td>718</td>\n",
       "      <td>[5616.5, 2250.0, 0.0, 430.5, 2420.0, 181.0, 19...</td>\n",
       "    </tr>\n",
       "    <tr>\n",
       "      <th>8</th>\n",
       "      <td>full_grain_6.jpg</td>\n",
       "      <td>726</td>\n",
       "      <td>[341.5, 4873.0, 0.0, 4068.5, 1279.5, 1090.5, 1...</td>\n",
       "    </tr>\n",
       "    <tr>\n",
       "      <th>9</th>\n",
       "      <td>mixed_grains_3.jpg</td>\n",
       "      <td>737</td>\n",
       "      <td>[1155.0, 717.5, 1615.5, 1619.5, 3008.0, 3307.5...</td>\n",
       "    </tr>\n",
       "    <tr>\n",
       "      <th>10</th>\n",
       "      <td>mixed_grain_1.jpg</td>\n",
       "      <td>403</td>\n",
       "      <td>[1666.5, 504.5, 1156.0, 1787.0, 1051.5, 1654.5...</td>\n",
       "    </tr>\n",
       "    <tr>\n",
       "      <th>11</th>\n",
       "      <td>mixed_grain_2.jpg</td>\n",
       "      <td>441</td>\n",
       "      <td>[2473.5, 1057.5, 1393.5, 2947.5, 1611.5, 5411....</td>\n",
       "    </tr>\n",
       "  </tbody>\n",
       "</table>\n",
       "</div>"
      ],
      "text/plain": [
       "                  name  total_grains  \\\n",
       "0   broken_grain_1.jpg           746   \n",
       "1   broken_grain_2.jpg           559   \n",
       "2   broken_grain_3.jpg          1048   \n",
       "3     full_grain_1.jpg           329   \n",
       "4     full_grain_2.jpg           552   \n",
       "5     full_grain_3.jpg           717   \n",
       "6     full_grain_4.jpg           583   \n",
       "7     full_grain_5.jpg           718   \n",
       "8     full_grain_6.jpg           726   \n",
       "9   mixed_grains_3.jpg           737   \n",
       "10   mixed_grain_1.jpg           403   \n",
       "11   mixed_grain_2.jpg           441   \n",
       "\n",
       "                                      grain_area_list  \n",
       "0   [862.5, 0.0, 1409.0, 1516.0, 1484.5, 985.5, 11...  \n",
       "1   [1310.0, 955.5, 753.5, 585.0, 1575.0, 1656.5, ...  \n",
       "2   [768.5, 1450.5, 1639.0, 694.5, 1139.0, 1893.0,...  \n",
       "3   [1230.0, 1295.5, 1322.5, 965.0, 1163.5, 2370.5...  \n",
       "4   [512.0, 649.5, 635.0, 810.0, 831.5, 807.0, 173...  \n",
       "5   [1190.0, 2199.5, 1707.0, 746.5, 1827.0, 1015.5...  \n",
       "6   [2570.0, 1852.5, 1008.0, 1051.5, 2187.5, 4286....  \n",
       "7   [5616.5, 2250.0, 0.0, 430.5, 2420.0, 181.0, 19...  \n",
       "8   [341.5, 4873.0, 0.0, 4068.5, 1279.5, 1090.5, 1...  \n",
       "9   [1155.0, 717.5, 1615.5, 1619.5, 3008.0, 3307.5...  \n",
       "10  [1666.5, 504.5, 1156.0, 1787.0, 1051.5, 1654.5...  \n",
       "11  [2473.5, 1057.5, 1393.5, 2947.5, 1611.5, 5411....  "
      ]
     },
     "execution_count": 24,
     "metadata": {},
     "output_type": "execute_result"
    }
   ],
   "source": [
    "df_train"
   ]
  },
  {
   "cell_type": "code",
   "execution_count": 25,
   "id": "459d3603",
   "metadata": {
    "scrolled": true
   },
   "outputs": [
    {
     "data": {
      "text/html": [
       "<div>\n",
       "<style scoped>\n",
       "    .dataframe tbody tr th:only-of-type {\n",
       "        vertical-align: middle;\n",
       "    }\n",
       "\n",
       "    .dataframe tbody tr th {\n",
       "        vertical-align: top;\n",
       "    }\n",
       "\n",
       "    .dataframe thead th {\n",
       "        text-align: right;\n",
       "    }\n",
       "</style>\n",
       "<table border=\"1\" class=\"dataframe\">\n",
       "  <thead>\n",
       "    <tr style=\"text-align: right;\">\n",
       "      <th></th>\n",
       "      <th>name</th>\n",
       "      <th>total_grains</th>\n",
       "      <th>grain_area_list</th>\n",
       "    </tr>\n",
       "  </thead>\n",
       "  <tbody>\n",
       "    <tr>\n",
       "      <th>0</th>\n",
       "      <td>image_1.jpg</td>\n",
       "      <td>630</td>\n",
       "      <td>[1175.0, 1146.5, 977.5, 590.0, 664.0, 389.5, 1...</td>\n",
       "    </tr>\n",
       "    <tr>\n",
       "      <th>1</th>\n",
       "      <td>image_2.jpg</td>\n",
       "      <td>645</td>\n",
       "      <td>[574.5, 2111.5, 1302.0, 2574.0, 1676.5, 784.0,...</td>\n",
       "    </tr>\n",
       "    <tr>\n",
       "      <th>2</th>\n",
       "      <td>image_3.jpg</td>\n",
       "      <td>634</td>\n",
       "      <td>[886.5, 1295.5, 1387.0, 2395.0, 4560.5, 819.0,...</td>\n",
       "    </tr>\n",
       "    <tr>\n",
       "      <th>3</th>\n",
       "      <td>image_4.jpg</td>\n",
       "      <td>723</td>\n",
       "      <td>[1389.0, 1499.5, 744.0, 733.0, 1045.5, 1101.5,...</td>\n",
       "    </tr>\n",
       "    <tr>\n",
       "      <th>4</th>\n",
       "      <td>image_5.jpg</td>\n",
       "      <td>737</td>\n",
       "      <td>[1155.0, 717.5, 1615.5, 1619.5, 3008.0, 3307.5...</td>\n",
       "    </tr>\n",
       "  </tbody>\n",
       "</table>\n",
       "</div>"
      ],
      "text/plain": [
       "          name  total_grains  \\\n",
       "0  image_1.jpg           630   \n",
       "1  image_2.jpg           645   \n",
       "2  image_3.jpg           634   \n",
       "3  image_4.jpg           723   \n",
       "4  image_5.jpg           737   \n",
       "\n",
       "                                     grain_area_list  \n",
       "0  [1175.0, 1146.5, 977.5, 590.0, 664.0, 389.5, 1...  \n",
       "1  [574.5, 2111.5, 1302.0, 2574.0, 1676.5, 784.0,...  \n",
       "2  [886.5, 1295.5, 1387.0, 2395.0, 4560.5, 819.0,...  \n",
       "3  [1389.0, 1499.5, 744.0, 733.0, 1045.5, 1101.5,...  \n",
       "4  [1155.0, 717.5, 1615.5, 1619.5, 3008.0, 3307.5...  "
      ]
     },
     "execution_count": 25,
     "metadata": {},
     "output_type": "execute_result"
    }
   ],
   "source": [
    "df_test"
   ]
  },
  {
   "cell_type": "markdown",
   "id": "47af5c12",
   "metadata": {},
   "source": [
    "# for folder creation, if already exists it will be passed"
   ]
  },
  {
   "cell_type": "code",
   "execution_count": 26,
   "id": "e0b37c3b",
   "metadata": {},
   "outputs": [],
   "source": [
    "try:\n",
    "    for i in ['data/AreaTrain','data/AreaTest']:\n",
    "        os.makedirs(i)\n",
    "except:\n",
    "    pass\n"
   ]
  },
  {
   "cell_type": "code",
   "execution_count": 27,
   "id": "8028a715",
   "metadata": {},
   "outputs": [],
   "source": [
    "for i in range(len(df_train)):\n",
    "    df_n = pd.DataFrame(columns= ['area'])\n",
    "    df_n['area'] = df_train.iloc[i,2]\n",
    "    df_n.to_csv(f'.\\data\\AreaTrain\\image{i+1}_area.csv')\n",
    "for i in range(len(df_test)):\n",
    "    df_n = pd.DataFrame(columns= ['area'])\n",
    "    df_n['area'] = df_test.iloc[i,2]\n",
    "    df_n.to_csv(f'.\\data\\AreaTest\\image{i+1}_area.csv')"
   ]
  },
  {
   "cell_type": "code",
   "execution_count": 4,
   "id": "a1359ceb",
   "metadata": {},
   "outputs": [
    {
     "data": {
      "text/html": [
       "<div>\n",
       "<style scoped>\n",
       "    .dataframe tbody tr th:only-of-type {\n",
       "        vertical-align: middle;\n",
       "    }\n",
       "\n",
       "    .dataframe tbody tr th {\n",
       "        vertical-align: top;\n",
       "    }\n",
       "\n",
       "    .dataframe thead th {\n",
       "        text-align: right;\n",
       "    }\n",
       "</style>\n",
       "<table border=\"1\" class=\"dataframe\">\n",
       "  <thead>\n",
       "    <tr style=\"text-align: right;\">\n",
       "      <th></th>\n",
       "      <th>area</th>\n",
       "      <th>rice_type</th>\n",
       "    </tr>\n",
       "  </thead>\n",
       "  <tbody>\n",
       "    <tr>\n",
       "      <th>0</th>\n",
       "      <td>862.5</td>\n",
       "      <td>broken</td>\n",
       "    </tr>\n",
       "    <tr>\n",
       "      <th>1</th>\n",
       "      <td>0.0</td>\n",
       "      <td>broken</td>\n",
       "    </tr>\n",
       "    <tr>\n",
       "      <th>2</th>\n",
       "      <td>1409.0</td>\n",
       "      <td>broken</td>\n",
       "    </tr>\n",
       "    <tr>\n",
       "      <th>3</th>\n",
       "      <td>1516.0</td>\n",
       "      <td>broken</td>\n",
       "    </tr>\n",
       "    <tr>\n",
       "      <th>4</th>\n",
       "      <td>1484.5</td>\n",
       "      <td>broken</td>\n",
       "    </tr>\n",
       "    <tr>\n",
       "      <th>...</th>\n",
       "      <td>...</td>\n",
       "      <td>...</td>\n",
       "    </tr>\n",
       "    <tr>\n",
       "      <th>5973</th>\n",
       "      <td>2012.5</td>\n",
       "      <td>full</td>\n",
       "    </tr>\n",
       "    <tr>\n",
       "      <th>5974</th>\n",
       "      <td>516.5</td>\n",
       "      <td>full</td>\n",
       "    </tr>\n",
       "    <tr>\n",
       "      <th>5975</th>\n",
       "      <td>1841.0</td>\n",
       "      <td>full</td>\n",
       "    </tr>\n",
       "    <tr>\n",
       "      <th>5976</th>\n",
       "      <td>164.5</td>\n",
       "      <td>full</td>\n",
       "    </tr>\n",
       "    <tr>\n",
       "      <th>5977</th>\n",
       "      <td>415.0</td>\n",
       "      <td>full</td>\n",
       "    </tr>\n",
       "  </tbody>\n",
       "</table>\n",
       "<p>5978 rows × 2 columns</p>\n",
       "</div>"
      ],
      "text/plain": [
       "        area rice_type\n",
       "0      862.5    broken\n",
       "1        0.0    broken\n",
       "2     1409.0    broken\n",
       "3     1516.0    broken\n",
       "4     1484.5    broken\n",
       "...      ...       ...\n",
       "5973  2012.5      full\n",
       "5974   516.5      full\n",
       "5975  1841.0      full\n",
       "5976   164.5      full\n",
       "5977   415.0      full\n",
       "\n",
       "[5978 rows x 2 columns]"
      ]
     },
     "execution_count": 4,
     "metadata": {},
     "output_type": "execute_result"
    }
   ],
   "source": [
    "combined = pd.read_csv(r'.\\data\\label_data.csv',index_col=0)\n",
    "combined"
   ]
  },
  {
   "cell_type": "code",
   "execution_count": 5,
   "id": "d4dd7523",
   "metadata": {},
   "outputs": [
    {
     "data": {
      "text/plain": [
       "full      3625\n",
       "broken    2353\n",
       "Name: rice_type, dtype: int64"
      ]
     },
     "execution_count": 5,
     "metadata": {},
     "output_type": "execute_result"
    }
   ],
   "source": [
    "combined['rice_type'].value_counts()"
   ]
  },
  {
   "cell_type": "markdown",
   "id": "204f09d5",
   "metadata": {},
   "source": [
    "# 4. VISUALIZING THE DISTRIBUTIONS OF THE DATA"
   ]
  },
  {
   "cell_type": "code",
   "execution_count": 6,
   "id": "1c9aab22",
   "metadata": {},
   "outputs": [],
   "source": [
    "import matplotlib.pyplot as plt\n",
    "import seaborn as sns"
   ]
  },
  {
   "cell_type": "code",
   "execution_count": 7,
   "id": "b2d09bc5",
   "metadata": {},
   "outputs": [
    {
     "data": {
      "image/png": "[encoded data removed]",
      "text/plain": [
       "<Figure size 640x480 with 1 Axes>"
      ]
     },
     "metadata": {},
     "output_type": "display_data"
    }
   ],
   "source": [
    "sns.distplot(combined.area)\n",
    "plt.show()"
   ]
  },
  {
   "cell_type": "code",
   "execution_count": 8,
   "id": "d6ddf8e7",
   "metadata": {},
   "outputs": [
    {
     "data": {
      "text/plain": [
       "count     5978.000000\n",
       "mean      1887.275259\n",
       "std       1070.297480\n",
       "min          0.000000\n",
       "25%       1228.500000\n",
       "50%       1667.750000\n",
       "75%       2203.500000\n",
       "max      12490.000000\n",
       "Name: area, dtype: float64"
      ]
     },
     "execution_count": 8,
     "metadata": {},
     "output_type": "execute_result"
    }
   ],
   "source": [
    "combined.area.describe()"
   ]
  },
  {
   "cell_type": "code",
   "execution_count": 32,
   "id": "73d46d45",
   "metadata": {},
   "outputs": [
    {
     "data": {
      "image/png": "[encoded data removed]",
      "text/plain": [
       "<Figure size 640x480 with 1 Axes>"
      ]
     },
     "metadata": {},
     "output_type": "display_data"
    },
    {
     "data": {
      "image/png": "[encoded data removed]",
      "text/plain": [
       "<Figure size 640x480 with 1 Axes>"
      ]
     },
     "metadata": {},
     "output_type": "display_data"
    }
   ],
   "source": [
    "for i in [\"broken\",\"full\"]:\n",
    "    sns.boxplot(combined[combined.rice_type == i] )\n",
    "    plt.title(i)\n",
    "    plt.show()"
   ]
  },
  {
   "cell_type": "code",
   "execution_count": 33,
   "id": "643ac8a4",
   "metadata": {},
   "outputs": [],
   "source": [
    "# there are outliers in both broken and full rice grain, we will be clipping them to 25 and 75 percentile's\n",
    "df1.sort_values(by=\"area\",inplace=True)\n",
    "df2.sort_values(by=\"area\",inplace=True)"
   ]
  },
  {
   "cell_type": "markdown",
   "id": "9088b131",
   "metadata": {},
   "source": [
    "# 5. OUTLIER HANDLING"
   ]
  },
  {
   "cell_type": "code",
   "execution_count": 34,
   "id": "a723348b",
   "metadata": {},
   "outputs": [],
   "source": [
    "q3 = df1[\"area\"].quantile(0.75)\n",
    "q1 = df1[\"area\"].quantile(0.25)\n",
    "iqr = q3-q1\n",
    "ut = q3+(1.5*iqr)\n",
    "lt = q1-(1.5*iqr)\n",
    "df1[\"area\"] = df1[\"area\"].clip(lt,ut)\n",
    "\n",
    "q3 = df1[\"area\"].quantile(0.75)\n",
    "q1 = df1[\"area\"].quantile(0.25)\n",
    "iqr = q3-q1\n",
    "ut = q3+(1.5*iqr)\n",
    "lt = q1-(1.5*iqr)\n",
    "df2[\"area\"] = df2[\"area\"].clip(lt,ut)"
   ]
  },
  {
   "cell_type": "code",
   "execution_count": 35,
   "id": "e840523a",
   "metadata": {},
   "outputs": [
    {
     "data": {
      "text/plain": [
       "<AxesSubplot: >"
      ]
     },
     "execution_count": 35,
     "metadata": {},
     "output_type": "execute_result"
    },
    {
     "data": {
      "image/png": "[encoded data removed]",
      "text/plain": [
       "<Figure size 640x480 with 1 Axes>"
      ]
     },
     "metadata": {},
     "output_type": "display_data"
    }
   ],
   "source": [
    "sns.boxplot(df2.area )"
   ]
  },
  {
   "cell_type": "code",
   "execution_count": 36,
   "id": "09c31bd4",
   "metadata": {},
   "outputs": [],
   "source": [
    "combined = pd.concat([df1,df2],ignore_index = True)"
   ]
  },
  {
   "cell_type": "code",
   "execution_count": 37,
   "id": "feb18733",
   "metadata": {
    "scrolled": true
   },
   "outputs": [
    {
     "data": {
      "image/png": "[encoded data removed]",
      "text/plain": [
       "<Figure size 640x480 with 1 Axes>"
      ]
     },
     "metadata": {},
     "output_type": "display_data"
    },
    {
     "data": {
      "image/png": "[encoded data removed]",
      "text/plain": [
       "<Figure size 640x480 with 1 Axes>"
      ]
     },
     "metadata": {},
     "output_type": "display_data"
    }
   ],
   "source": [
    "for i in [\"broken\",\"full\"]:\n",
    "    sns.boxplot(combined[combined.rice_type == i] )\n",
    "    plt.title(i)\n",
    "    plt.show()"
   ]
  },
  {
   "cell_type": "code",
   "execution_count": 38,
   "id": "32628a7f",
   "metadata": {},
   "outputs": [
    {
     "data": {
      "text/html": [
       "<div>\n",
       "<style scoped>\n",
       "    .dataframe tbody tr th:only-of-type {\n",
       "        vertical-align: middle;\n",
       "    }\n",
       "\n",
       "    .dataframe tbody tr th {\n",
       "        vertical-align: top;\n",
       "    }\n",
       "\n",
       "    .dataframe thead th {\n",
       "        text-align: right;\n",
       "    }\n",
       "</style>\n",
       "<table border=\"1\" class=\"dataframe\">\n",
       "  <thead>\n",
       "    <tr style=\"text-align: right;\">\n",
       "      <th></th>\n",
       "      <th>area</th>\n",
       "      <th>rice_type</th>\n",
       "    </tr>\n",
       "  </thead>\n",
       "  <tbody>\n",
       "    <tr>\n",
       "      <th>0</th>\n",
       "      <td>60.25</td>\n",
       "      <td>broken</td>\n",
       "    </tr>\n",
       "    <tr>\n",
       "      <th>1</th>\n",
       "      <td>60.25</td>\n",
       "      <td>broken</td>\n",
       "    </tr>\n",
       "    <tr>\n",
       "      <th>2</th>\n",
       "      <td>60.25</td>\n",
       "      <td>broken</td>\n",
       "    </tr>\n",
       "    <tr>\n",
       "      <th>3</th>\n",
       "      <td>454.00</td>\n",
       "      <td>broken</td>\n",
       "    </tr>\n",
       "    <tr>\n",
       "      <th>4</th>\n",
       "      <td>497.00</td>\n",
       "      <td>broken</td>\n",
       "    </tr>\n",
       "    <tr>\n",
       "      <th>...</th>\n",
       "      <td>...</td>\n",
       "      <td>...</td>\n",
       "    </tr>\n",
       "    <tr>\n",
       "      <th>5973</th>\n",
       "      <td>3194.25</td>\n",
       "      <td>full</td>\n",
       "    </tr>\n",
       "    <tr>\n",
       "      <th>5974</th>\n",
       "      <td>3194.25</td>\n",
       "      <td>full</td>\n",
       "    </tr>\n",
       "    <tr>\n",
       "      <th>5975</th>\n",
       "      <td>3194.25</td>\n",
       "      <td>full</td>\n",
       "    </tr>\n",
       "    <tr>\n",
       "      <th>5976</th>\n",
       "      <td>3194.25</td>\n",
       "      <td>full</td>\n",
       "    </tr>\n",
       "    <tr>\n",
       "      <th>5977</th>\n",
       "      <td>3194.25</td>\n",
       "      <td>full</td>\n",
       "    </tr>\n",
       "  </tbody>\n",
       "</table>\n",
       "<p>5978 rows × 2 columns</p>\n",
       "</div>"
      ],
      "text/plain": [
       "         area rice_type\n",
       "0       60.25    broken\n",
       "1       60.25    broken\n",
       "2       60.25    broken\n",
       "3      454.00    broken\n",
       "4      497.00    broken\n",
       "...       ...       ...\n",
       "5973  3194.25      full\n",
       "5974  3194.25      full\n",
       "5975  3194.25      full\n",
       "5976  3194.25      full\n",
       "5977  3194.25      full\n",
       "\n",
       "[5978 rows x 2 columns]"
      ]
     },
     "execution_count": 38,
     "metadata": {},
     "output_type": "execute_result"
    }
   ],
   "source": [
    "combined"
   ]
  },
  {
   "cell_type": "markdown",
   "id": "6464c42a",
   "metadata": {},
   "source": [
    "# 6. LABEL ENCODING THE CATEGOERICAL DATA"
   ]
  },
  {
   "cell_type": "code",
   "execution_count": 39,
   "id": "566e98c8",
   "metadata": {},
   "outputs": [
    {
     "data": {
      "text/html": [
       "<div>\n",
       "<style scoped>\n",
       "    .dataframe tbody tr th:only-of-type {\n",
       "        vertical-align: middle;\n",
       "    }\n",
       "\n",
       "    .dataframe tbody tr th {\n",
       "        vertical-align: top;\n",
       "    }\n",
       "\n",
       "    .dataframe thead th {\n",
       "        text-align: right;\n",
       "    }\n",
       "</style>\n",
       "<table border=\"1\" class=\"dataframe\">\n",
       "  <thead>\n",
       "    <tr style=\"text-align: right;\">\n",
       "      <th></th>\n",
       "      <th>area</th>\n",
       "      <th>rice_type</th>\n",
       "    </tr>\n",
       "  </thead>\n",
       "  <tbody>\n",
       "    <tr>\n",
       "      <th>0</th>\n",
       "      <td>60.25</td>\n",
       "      <td>0</td>\n",
       "    </tr>\n",
       "    <tr>\n",
       "      <th>1</th>\n",
       "      <td>60.25</td>\n",
       "      <td>0</td>\n",
       "    </tr>\n",
       "    <tr>\n",
       "      <th>2</th>\n",
       "      <td>60.25</td>\n",
       "      <td>0</td>\n",
       "    </tr>\n",
       "    <tr>\n",
       "      <th>3</th>\n",
       "      <td>454.00</td>\n",
       "      <td>0</td>\n",
       "    </tr>\n",
       "    <tr>\n",
       "      <th>4</th>\n",
       "      <td>497.00</td>\n",
       "      <td>0</td>\n",
       "    </tr>\n",
       "    <tr>\n",
       "      <th>...</th>\n",
       "      <td>...</td>\n",
       "      <td>...</td>\n",
       "    </tr>\n",
       "    <tr>\n",
       "      <th>5973</th>\n",
       "      <td>3194.25</td>\n",
       "      <td>1</td>\n",
       "    </tr>\n",
       "    <tr>\n",
       "      <th>5974</th>\n",
       "      <td>3194.25</td>\n",
       "      <td>1</td>\n",
       "    </tr>\n",
       "    <tr>\n",
       "      <th>5975</th>\n",
       "      <td>3194.25</td>\n",
       "      <td>1</td>\n",
       "    </tr>\n",
       "    <tr>\n",
       "      <th>5976</th>\n",
       "      <td>3194.25</td>\n",
       "      <td>1</td>\n",
       "    </tr>\n",
       "    <tr>\n",
       "      <th>5977</th>\n",
       "      <td>3194.25</td>\n",
       "      <td>1</td>\n",
       "    </tr>\n",
       "  </tbody>\n",
       "</table>\n",
       "<p>5978 rows × 2 columns</p>\n",
       "</div>"
      ],
      "text/plain": [
       "         area  rice_type\n",
       "0       60.25          0\n",
       "1       60.25          0\n",
       "2       60.25          0\n",
       "3      454.00          0\n",
       "4      497.00          0\n",
       "...       ...        ...\n",
       "5973  3194.25          1\n",
       "5974  3194.25          1\n",
       "5975  3194.25          1\n",
       "5976  3194.25          1\n",
       "5977  3194.25          1\n",
       "\n",
       "[5978 rows x 2 columns]"
      ]
     },
     "execution_count": 39,
     "metadata": {},
     "output_type": "execute_result"
    }
   ],
   "source": [
    "from sklearn.preprocessing import LabelEncoder\n",
    "\n",
    "# Initialize the label encoder\n",
    "le = LabelEncoder()\n",
    "\n",
    "# Encode the train target variable\n",
    "# Fit the label encoder to the target variable\n",
    "# 0 - broken, 1- full\n",
    "combined.rice_type = le.fit_transform(combined.rice_type)\n",
    "combined"
   ]
  },
  {
   "cell_type": "code",
   "execution_count": 40,
   "id": "4361e35f",
   "metadata": {},
   "outputs": [
    {
     "data": {
      "text/plain": [
       "array([[  60.25],\n",
       "       [  60.25],\n",
       "       [  60.25],\n",
       "       ...,\n",
       "       [3194.25],\n",
       "       [3194.25],\n",
       "       [3194.25]])"
      ]
     },
     "execution_count": 40,
     "metadata": {},
     "output_type": "execute_result"
    }
   ],
   "source": [
    "X = np.array(combined.area).reshape(-1,1)\n",
    "y = combined.rice_type\n",
    "X"
   ]
  },
  {
   "cell_type": "markdown",
   "id": "3c222fe1",
   "metadata": {},
   "source": [
    "# 7. MODEL BUILDING\n",
    "  \n",
    " Applying Decision tree, Random forest algorithms"
   ]
  },
  {
   "cell_type": "code",
   "execution_count": 41,
   "id": "a7bce9b6",
   "metadata": {},
   "outputs": [],
   "source": [
    "from sklearn.model_selection import train_test_split\n",
    "from sklearn.model_selection import RandomizedSearchCV\n",
    "from sklearn.metrics import make_scorer, roc_auc_score,f1_score\n",
    "X_train,X_test,y_train,y_test = train_test_split(X,y, test_size=0.2)"
   ]
  },
  {
   "cell_type": "markdown",
   "id": "d96f0e54",
   "metadata": {},
   "source": [
    "## Logistic Regression"
   ]
  },
  {
   "cell_type": "code",
   "execution_count": 42,
   "id": "2bcb8af8",
   "metadata": {},
   "outputs": [
    {
     "name": "stdout",
     "output_type": "stream",
     "text": [
      "F1-Score of Logistic Regression classifier is: 0.7443569553805774\n"
     ]
    }
   ],
   "source": [
    "from sklearn.linear_model import LogisticRegression\n",
    "\n",
    "# Define the hyperparameter search space\n",
    "param_dist = {\n",
    "    'C': np.logspace(-4, 4, 20),\n",
    "    'penalty': ['l1', 'l2']\n",
    "}\n",
    "\n",
    "# Create a logistic regression object\n",
    "lr = LogisticRegression()\n",
    "\n",
    "# Create a randomized search object with 10-fold cross-validation\n",
    "lr_random_search = RandomizedSearchCV(lr, param_distributions=param_dist, n_iter=10, cv=10)\n",
    "\n",
    "# Fit the randomized search object to the data\n",
    "lr_random_search.fit(X_train, y_train)\n",
    "\n",
    "# Get the best hyperparameters and the best score\n",
    "lr_best_model = lr_random_search.best_estimator_\n",
    "\n",
    "y_pred = lr_best_model.predict(X_test)\n",
    "\n",
    "lr_f1score = f1_score(y_test, y_pred)\n",
    "\n",
    "print(f\"F1-Score of Logistic Regression classifier is: {lr_f1score}\")"
   ]
  },
  {
   "cell_type": "markdown",
   "id": "19d51169",
   "metadata": {},
   "source": [
    "## KNN"
   ]
  },
  {
   "cell_type": "code",
   "execution_count": 43,
   "id": "e415ecf7",
   "metadata": {},
   "outputs": [
    {
     "name": "stdout",
     "output_type": "stream",
     "text": [
      "F1-Score of KNN classifier is: 0.7443569553805774\n"
     ]
    }
   ],
   "source": [
    "from sklearn.neighbors import KNeighborsClassifier\n",
    "\n",
    "# Create a KNN classifier object\n",
    "knn = KNeighborsClassifier()\n",
    "\n",
    "# Define the hyperparameters to tune and their possible values\n",
    "param_dist = {'n_neighbors': np.arange(1, 50),\n",
    "              'metric': ['euclidean', 'manhattan', 'cosine'],\n",
    "              'weights': ['uniform', 'distance']}\n",
    "\n",
    "# Number of random combinations to try\n",
    "n_iter = 100\n",
    "\n",
    "# Perform randomized search using 10-fold cross-validation\n",
    "knn_random_search = RandomizedSearchCV(knn, param_distributions=param_dist, n_iter=n_iter, cv=10)\n",
    "knn_random_search.fit(X_train, y_train)\n",
    "\n",
    "# Get the best hyperparameters and the best score\n",
    "knn_best_model = knn_random_search.best_estimator_\n",
    "\n",
    "y_pred = knn_best_model.predict(X_test)\n",
    "\n",
    "knn_f1score = f1_score(y_test, y_pred)\n",
    "\n",
    "print(f\"F1-Score of KNN classifier is: {knn_f1score}\")"
   ]
  },
  {
   "cell_type": "markdown",
   "id": "a8aea88d",
   "metadata": {},
   "source": [
    "## Decision Tree with hyper parameter tuning"
   ]
  },
  {
   "cell_type": "code",
   "execution_count": 44,
   "id": "137c8dbe",
   "metadata": {},
   "outputs": [
    {
     "name": "stdout",
     "output_type": "stream",
     "text": [
      "F1-Score of Decision Tree classifier is: 0.6773162939297124\n"
     ]
    }
   ],
   "source": [
    "from sklearn.tree import DecisionTreeClassifier\n",
    "\n",
    "# Create a Decision Tree classifier object\n",
    "dt = DecisionTreeClassifier()\n",
    "\n",
    "# Define the parameter grid to search\n",
    "param_grid = {'max_depth': range(1,100),\n",
    "              'min_samples_split': range(1,100),\n",
    "              'min_samples_leaf': range(1,100)}\n",
    "\n",
    "auc_scorer = make_scorer(roc_auc_score, greater_is_better=True)\n",
    "\n",
    "# Initialize the RandomizedSearchCV object\n",
    "dt_random_search = RandomizedSearchCV(dt, param_distributions=param_grid, cv=10, n_jobs=-1, scoring=auc_scorer)\n",
    "\n",
    "# Fit the RandomizedSearchCV object to the training data\n",
    "dt_random_search.fit(X_train, y_train)\n",
    "\n",
    "# Get the best model with best parameters\n",
    "dt_best_model = dt_random_search.best_estimator_\n",
    "\n",
    "y_pred = dt_best_model.predict(X_test)\n",
    "\n",
    "dt_f1score = f1_score(y_test, y_pred)\n",
    "\n",
    "print(f\"F1-Score of Decision Tree classifier is: {dt_f1score}\")"
   ]
  },
  {
   "cell_type": "markdown",
   "id": "be326904",
   "metadata": {},
   "source": [
    "## Random Forest with hyper parameter tuning"
   ]
  },
  {
   "cell_type": "code",
   "execution_count": 45,
   "id": "c88e5682",
   "metadata": {},
   "outputs": [
    {
     "name": "stdout",
     "output_type": "stream",
     "text": [
      "F1-Score of Random forest classifier is: 0.7085577498503891\n"
     ]
    }
   ],
   "source": [
    "from sklearn.ensemble import RandomForestClassifier\n",
    "\n",
    "# Define the parameter grid to search\n",
    "param_dist = {'n_estimators': [10,50,200],\n",
    "              'max_depth': range(1,100),\n",
    "              'min_samples_split': range(1,100),\n",
    "              'min_samples_leaf': range(1,100),\n",
    "              'max_features': ['auto', 'sqrt', 'log2'],\n",
    "              'criterion': ['gini', 'entropy'],\n",
    "              'bootstrap': [True],\n",
    "              'oob_score': [True, False],\n",
    "              'verbose': [0, 1],\n",
    "              'random_state': [42],\n",
    "              'n_jobs': [-1]\n",
    "             }\n",
    "\n",
    "# Initialize the RandomForestClassifier \n",
    "rf = RandomForestClassifier()\n",
    "\n",
    "auc_scorer = make_scorer(roc_auc_score, greater_is_better=True)\n",
    "# Initialize the RandomizedSearchCV object\n",
    "rf_random_search = RandomizedSearchCV(rf, param_distributions=param_dist, cv=5, n_jobs=-1, scoring=auc_scorer,refit = True)\n",
    "\n",
    "# Fit the RandomizedSearchCV object to the training data\n",
    "rf_random_search.fit(X_train, y_train)\n",
    "\n",
    "# Get the best model with best parameters\n",
    "rf_best_model = rf_random_search.best_estimator_\n",
    "\n",
    "y_pred = rf_best_model.predict(X_test)\n",
    "\n",
    "rf_f1score = f1_score(y_test, y_pred)\n",
    "\n",
    "print(f\"F1-Score of Random forest classifier is: {rf_f1score}\")"
   ]
  },
  {
   "cell_type": "code",
   "execution_count": 46,
   "id": "b019d9ae",
   "metadata": {},
   "outputs": [
    {
     "data": {
      "text/plain": [
       "0.7443569553805774"
      ]
     },
     "execution_count": 46,
     "metadata": {},
     "output_type": "execute_result"
    }
   ],
   "source": [
    "max(lr_f1score,knn_f1score,dt_f1score,rf_f1score)"
   ]
  },
  {
   "cell_type": "markdown",
   "id": "fcb2d907",
   "metadata": {},
   "source": [
    "## The best model for above algorithms is logistic regression. But when tested the model for prediction it is not able predict false positives well, and Random forest is doing well in this scenario.\n",
    "## So Random Forest is used for classification of rice grains"
   ]
  },
  {
   "cell_type": "code",
   "execution_count": 47,
   "id": "274dda35",
   "metadata": {},
   "outputs": [],
   "source": [
    "best_model = rf_best_model\n",
    "\n",
    "test = os.listdir('data/test')\n",
    "train = os.listdir('data/train')\n",
    "area_train = os.listdir('data/AreaTrain')\n",
    "area_test = os.listdir('data/AreaTest')"
   ]
  },
  {
   "cell_type": "markdown",
   "id": "22fda419",
   "metadata": {},
   "source": [
    "# 8. Counting no. of full / broken grains in each image"
   ]
  },
  {
   "cell_type": "code",
   "execution_count": 48,
   "id": "78bd2aac",
   "metadata": {},
   "outputs": [],
   "source": [
    "dir1 = test\n",
    "dir2 = area_test\n",
    "result_df = pd.DataFrame(columns = ['file_name','total_rice_grain','total_broken_rice_grain'])\n",
    "for i in range(len(dir1)):\n",
    "    image_area = pd.read_csv(f'data/AreaTest/{dir2[i]}',index_col = 0)\n",
    "    pred = best_model.predict(image_area['area'].values.reshape(-1,1))\n",
    "    x = pd.DataFrame(pred).value_counts()\n",
    "    x = {'total_broken_rice_grain': x[0]}\n",
    "    x['file_name'] = dir1[i]\n",
    "    x['total_rice_grain'] = image_area['area'].size\n",
    "    result_df = result_df.append(x,ignore_index = True)"
   ]
  },
  {
   "cell_type": "code",
   "execution_count": 49,
   "id": "3fd68f8c",
   "metadata": {},
   "outputs": [
    {
     "data": {
      "text/html": [
       "<div>\n",
       "<style scoped>\n",
       "    .dataframe tbody tr th:only-of-type {\n",
       "        vertical-align: middle;\n",
       "    }\n",
       "\n",
       "    .dataframe tbody tr th {\n",
       "        vertical-align: top;\n",
       "    }\n",
       "\n",
       "    .dataframe thead th {\n",
       "        text-align: right;\n",
       "    }\n",
       "</style>\n",
       "<table border=\"1\" class=\"dataframe\">\n",
       "  <thead>\n",
       "    <tr style=\"text-align: right;\">\n",
       "      <th></th>\n",
       "      <th>file_name</th>\n",
       "      <th>total_rice_grain</th>\n",
       "      <th>total_broken_rice_grain</th>\n",
       "    </tr>\n",
       "  </thead>\n",
       "  <tbody>\n",
       "    <tr>\n",
       "      <th>0</th>\n",
       "      <td>image_1.jpg</td>\n",
       "      <td>630</td>\n",
       "      <td>110</td>\n",
       "    </tr>\n",
       "    <tr>\n",
       "      <th>1</th>\n",
       "      <td>image_2.jpg</td>\n",
       "      <td>645</td>\n",
       "      <td>111</td>\n",
       "    </tr>\n",
       "    <tr>\n",
       "      <th>2</th>\n",
       "      <td>image_3.jpg</td>\n",
       "      <td>634</td>\n",
       "      <td>131</td>\n",
       "    </tr>\n",
       "    <tr>\n",
       "      <th>3</th>\n",
       "      <td>image_4.jpg</td>\n",
       "      <td>723</td>\n",
       "      <td>168</td>\n",
       "    </tr>\n",
       "    <tr>\n",
       "      <th>4</th>\n",
       "      <td>image_5.jpg</td>\n",
       "      <td>737</td>\n",
       "      <td>101</td>\n",
       "    </tr>\n",
       "  </tbody>\n",
       "</table>\n",
       "</div>"
      ],
      "text/plain": [
       "     file_name total_rice_grain total_broken_rice_grain\n",
       "0  image_1.jpg              630                     110\n",
       "1  image_2.jpg              645                     111\n",
       "2  image_3.jpg              634                     131\n",
       "3  image_4.jpg              723                     168\n",
       "4  image_5.jpg              737                     101"
      ]
     },
     "execution_count": 49,
     "metadata": {},
     "output_type": "execute_result"
    }
   ],
   "source": [
    "result_df"
   ]
  },
  {
   "cell_type": "markdown",
   "id": "751cfa7d",
   "metadata": {},
   "source": [
    "# 9.Saving the result as submission.csv"
   ]
  },
  {
   "cell_type": "code",
   "execution_count": 51,
   "id": "169d3d61",
   "metadata": {},
   "outputs": [],
   "source": [
    "result_df.to_csv('submission.csv',index = False)"
   ]
  },
  {
   "cell_type": "code",
   "execution_count": null,
   "id": "17e1c682",
   "metadata": {},
   "outputs": [],
   "source": []
  }
 ],
 "metadata": {
  "kernelspec": {
   "display_name": "Python 3 (ipykernel)",
   "language": "python",
   "name": "python3"
  },
  "language_info": {
   "codemirror_mode": {
    "name": "ipython",
    "version": 3
   },
   "file_extension": ".py",
   "mimetype": "text/x-python",
   "name": "python",
   "nbconvert_exporter": "python",
   "pygments_lexer": "ipython3",
   "version": "3.9.16"
  }
 },
 "nbformat": 4,
 "nbformat_minor": 5
}
